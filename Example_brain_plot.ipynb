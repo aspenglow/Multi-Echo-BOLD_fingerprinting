{
 "cells": [
  {
   "cell_type": "code",
   "execution_count": 1,
   "id": "f50bbbc9",
   "metadata": {},
   "outputs": [],
   "source": [
    "import numpy as np\n",
    "import matplotlib.pyplot as plt\n",
    "import matplotlib as mpl\n",
    "from neuromaps.datasets import fetch_fslr\n",
    "from surfplot import Plot\n",
    "from surfplot.datasets import load_example_data\n",
    "from neuromaps.datasets import fetch_fslr\n",
    "from neuromaps.transforms import mni152_to_fslr\n",
    "from brainspace.datasets import load_parcellation\n",
    "import matplotlib.ticker as ticker\n",
    "import os\n",
    "import numpy as np\n",
    "import svgutils.transform as sg\n",
    "import nibabel as nb\n",
    "import copy\n",
    "import sys\n",
    "sys.path.append('/home/andrea/research/')\n",
    "from matplotlib.lines import Line2D\n",
    "\n",
    "from fingerprinting.utils_neuromaps_brain import *"
   ]
  },
  {
   "cell_type": "code",
   "execution_count": 2,
   "id": "92b67277",
   "metadata": {},
   "outputs": [],
   "source": [
    "from scipy.io import loadmat\n",
    "N=200\n",
    "yeo_all=loadmat('/media/miplab-nas2/Data3/Danyang/Multi-Echo-BOLD_fingerprinting/yeo_RS7_Schafer{0}S.mat'.format(N))\n",
    "nodeID_yeomap=np.array([i[0] for i in yeo_all['yeoROIs']])"
   ]
  },
  {
   "cell_type": "code",
   "execution_count": 3,
   "id": "e04bcce1",
   "metadata": {},
   "outputs": [],
   "source": [
    "node_strength=np.zeros(N)\n",
    "for i in range(1,8):\n",
    "    node_strength[np.array(nodeID_yeomap==i)[:N]]=(i)*10+np.random.normal(loc=0.0,scale=0.1,size=sum(np.array(nodeID_yeomap==i)[:N]))"
   ]
  },
  {
   "cell_type": "code",
   "execution_count": 4,
   "id": "3c7eeb6b",
   "metadata": {},
   "outputs": [
    {
     "data": {
      "text/plain": [
       "(200,)"
      ]
     },
     "execution_count": 4,
     "metadata": {},
     "output_type": "execute_result"
    }
   ],
   "source": [
    "node_strength.shape"
   ]
  },
  {
   "cell_type": "code",
   "execution_count": 5,
   "id": "bf6df245",
   "metadata": {},
   "outputs": [],
   "source": [
    "cmap = plt.get_cmap('tab20')\n",
    "new_cmap = mpl.colors.LinearSegmentedColormap.from_list(\n",
    "        'trunc({n},{a:.2f},{b:.2f})'.format(n=cmap.name, a=0, b=1),\n",
    "        cmap(np.linspace(0, 0.35, 1000)))"
   ]
  },
  {
   "cell_type": "code",
   "execution_count": 6,
   "id": "414b9238",
   "metadata": {},
   "outputs": [
    {
     "ename": "",
     "evalue": "",
     "output_type": "error",
     "traceback": [
      "\u001b[1;31mCanceled future for execute_request message before replies were done"
     ]
    },
    {
     "ename": "",
     "evalue": "",
     "output_type": "error",
     "traceback": [
      "\u001b[1;31mThe Kernel crashed while executing code in the the current cell or a previous cell. Please review the code in the cell(s) to identify a possible cause of the failure. Click <a href='https://aka.ms/vscodeJupyterKernelCrash'>here</a> for more info. View Jupyter <a href='command:jupyter.viewOutput'>log</a> for further details."
     ]
    }
   ],
   "source": [
    "fig=normal_view(node_strength,edges=True,exp_form=False,q_thresh=0,cmap=new_cmap,parcellation=N,brightness=0.8,vmin=10,vmax=70)\n",
    "fig"
   ]
  },
  {
   "cell_type": "markdown",
   "id": "76613588",
   "metadata": {},
   "source": [
    "#### Random node strength mapped on the cortical surface"
   ]
  },
  {
   "cell_type": "code",
   "execution_count": 3,
   "id": "d9c411b6",
   "metadata": {},
   "outputs": [
    {
     "ename": "",
     "evalue": "",
     "output_type": "error",
     "traceback": [
      "\u001b[1;31mCanceled future for execute_request message before replies were done"
     ]
    },
    {
     "ename": "",
     "evalue": "",
     "output_type": "error",
     "traceback": [
      "\u001b[1;31mThe Kernel crashed while executing code in the the current cell or a previous cell. Please review the code in the cell(s) to identify a possible cause of the failure. Click <a href='https://aka.ms/vscodeJupyterKernelCrash'>here</a> for more info. View Jupyter <a href='command:jupyter.viewOutput'>log</a> for further details."
     ]
    }
   ],
   "source": [
    "fig=normal_view(np.random.normal(size=400),edges=True,surftype='inflated',\n",
    "                exp_form=False,q_thresh=0,cmap='custom',parcellation=400,graymap_rev=True)\n",
    "fig"
   ]
  },
  {
   "cell_type": "markdown",
   "id": "2c3603c0",
   "metadata": {},
   "source": [
    "### Custom colormaps for the yeo networks (usual colors)"
   ]
  },
  {
   "cell_type": "code",
   "execution_count": 7,
   "id": "1437bc3e",
   "metadata": {},
   "outputs": [
    {
     "data": {
      "image/png": "[encoded data removed]",
      "text/html": [
       "<div style=\"vertical-align: middle;\"><strong>my_list</strong> </div><div class=\"cmap\"><img alt=\"my_list colormap\" title=\"my_list\" style=\"border: 1px solid #555;\" src=\"data:image/png;base64,iVBORw0KGgoAAAANSUhEUgAAAgAAAABACAYAAABsv8+/AAAAFnRFWHRUaXRsZQBteV9saXN0IGNvbG9ybWFwA0iRLwAAABx0RVh0RGVzY3JpcHRpb24AbXlfbGlzdCBjb2xvcm1hcKRmIFYAAAAwdEVYdEF1dGhvcgBNYXRwbG90bGliIHYzLjQuMiwgaHR0cHM6Ly9tYXRwbG90bGliLm9yZ6zWY90AAAAydEVYdFNvZnR3YXJlAE1hdHBsb3RsaWIgdjMuNC4yLCBodHRwczovL21hdHBsb3RsaWIub3JngnD8+gAAAVlJREFUeJzt1jENwlAAANFSBzDiATWM7LggqRrCjBpUVAMOGPlt7j0FN95hmZb3xE+Xz310wuZdX+fRCZu3zuvohM07Pk6jE/bhOTpg426jA/ZhHh0AAPyfAQCAIAMAAEEGAACCDAAABBkAAAgyAAAQZAAAIMgAAECQAQCAIAMAAEEGAACCDAAABBkAAAgyAAAQZAAAIMgAAECQAQCAIAMAAEEGAACCDAAABBkAAAgyAAAQZAAAIMgAAECQAQCAIAMAAEEGAACCDAAABBkAAAgyAAAQZAAAIMgAAECQAQCAIAMAAEEGAACCDAAABBkAAAgyAAAQZAAAIMgAAECQAQCAIAMAAEEGAACCDAAABBkAAAgyAAAQZAAAIMgAAECQAQCAIAMAAEEGAACCDAAABBkAAAgyAAAQZAAAIMgAAECQAQCAIAMAAEEGAACCDAAABBkAAAgyAAAQ9AVhYggx9jFpFgAAAABJRU5ErkJggg==\"></div><div style=\"vertical-align: middle; max-width: 514px; display: flex; justify-content: space-between;\"><div style=\"float: left;\"><div title=\"#800080b2\" style=\"display: inline-block; width: 1em; height: 1em; margin: 0; vertical-align: middle; border: 1px solid #555; background-color: #800080b2;\"></div> under</div><div style=\"margin: 0 auto; display: inline-block;\">bad <div title=\"#00000000\" style=\"display: inline-block; width: 1em; height: 1em; margin: 0; vertical-align: middle; border: 1px solid #555; background-color: #00000000;\"></div></div><div style=\"float: right;\">over <div title=\"#ff0000b2\" style=\"display: inline-block; width: 1em; height: 1em; margin: 0; vertical-align: middle; border: 1px solid #555; background-color: #ff0000b2;\"></div></div>"
      ],
      "text/plain": [
       "<matplotlib.colors.LinearSegmentedColormap at 0x7f9e15e23940>"
      ]
     },
     "execution_count": 7,
     "metadata": {},
     "output_type": "execute_result"
    }
   ],
   "source": [
    "from matplotlib.colors import LinearSegmentedColormap\n",
    "alpha=0.7\n",
    "colors = [mpl.colors.to_rgba('purple',alpha), #Visual\n",
    "          mpl.colors.to_rgba('lightblue',alpha),#Somatomotor\n",
    "          mpl.colors.to_rgba('green',alpha),#Dorsal Attention\n",
    "          mpl.colors.to_rgba('violet',alpha),#Ventral Attention\n",
    "          mpl.colors.to_rgba('yellow',alpha),#Limbic\n",
    "          mpl.colors.to_rgba('orange',alpha),#Frontoparietal\n",
    "          mpl.colors.to_rgba('red',alpha),#Default\n",
    "         ]\n",
    "n_bin=7\n",
    "cmap_name = 'my_list'\n",
    "\n",
    "cmap = LinearSegmentedColormap.from_list(cmap_name, colors, N=n_bin)\n",
    "cmap"
   ]
  },
  {
   "cell_type": "code",
   "execution_count": null,
   "id": "653aa60a",
   "metadata": {
    "scrolled": false
   },
   "outputs": [],
   "source": [
    "fig=full_view(node_strength,edges=True,exp_form=False,q_thresh=0,surftype='inflated',\n",
    "              cmap=cmap,parcellation=400,brightness=0.7,vmin_plot=10,vmax_plot=70,xlabel='Yeo Netw.',graymap_rev=False,alpha_graymap=0.4)\n",
    "compose_full_view();\n",
    "\n",
    "rect = [Line2D([], [], marker=\"s\", markersize=5, linewidth=0, color=colors[i]) for i in range(len(colors))]\n",
    "#ax.legend((rect1, rect2), ('Men', 'Women'))\n",
    "plt.legend(rect,('Visual', 'Somatomotor','Dorsal Attention',\\\n",
    "                 'Ventral Attention','Limbic','Frontoparietal','Default'),bbox_to_anchor=(1.5,0.8))"
   ]
  },
  {
   "cell_type": "code",
   "execution_count": null,
   "id": "414bf930",
   "metadata": {},
   "outputs": [],
   "source": []
  },
  {
   "cell_type": "code",
   "execution_count": null,
   "id": "7d69616b",
   "metadata": {},
   "outputs": [],
   "source": []
  },
  {
   "cell_type": "code",
   "execution_count": null,
   "id": "089eb1c1",
   "metadata": {},
   "outputs": [],
   "source": []
  },
  {
   "cell_type": "code",
   "execution_count": null,
   "id": "3c4702ed",
   "metadata": {},
   "outputs": [],
   "source": []
  }
 ],
 "metadata": {
  "kernelspec": {
   "display_name": "dawang",
   "language": "python",
   "name": "python3"
  },
  "language_info": {
   "codemirror_mode": {
    "name": "ipython",
    "version": 3
   },
   "file_extension": ".py",
   "mimetype": "text/x-python",
   "name": "python",
   "nbconvert_exporter": "python",
   "pygments_lexer": "ipython3",
   "version": "3.8.13"
  },
  "vscode": {
   "interpreter": {
    "hash": "cf70b214f20b6a33e00628fef58151f0c27d736190cc96fc109078b54918bb33"
   }
  }
 },
 "nbformat": 4,
 "nbformat_minor": 5
}
